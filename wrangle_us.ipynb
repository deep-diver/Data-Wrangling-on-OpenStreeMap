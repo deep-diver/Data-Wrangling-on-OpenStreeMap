{
 "cells": [
  {
   "cell_type": "markdown",
   "metadata": {},
   "source": [
    "# Data Wrangling with Open Street Map(OSM)"
   ]
  },
  {
   "cell_type": "markdown",
   "metadata": {},
   "source": [
    "## 1. Choose a city\n",
    "- OSM includes lots of cities spread globally. \n",
    "- I could choose cities in Asia, but lots of information in written in their local languages.\n",
    "- I am going to examine **Seattle WA, USA** since it is suitable to begin to wrangle with OSM at first.\n",
    "- After getting done with this one, I will go for another cities like Seoul in S.Korea or Tokyo in Japan.\n",
    "\n",
    "![map_region_seattle](map_region_seattle.png)"
   ]
  },
  {
   "cell_type": "markdown",
   "metadata": {},
   "source": [
    "## 1-1. Map Information\n",
    "- I am going to download map data (.osm) from MapZen. This website provides already prepared data file for popular cities. \n",
    "  - (https://goo.gl/kXjffY for Seattle WA, USA)\n",
    "- When downloading OSM file, it is initially compressed.\n",
    "- I need to uncompress the file first"
   ]
  },
  {
   "cell_type": "markdown",
   "metadata": {},
   "source": [
    "##  2. Extract sample data from original\n",
    "- Because uncompressed file is too large (> 1GB), it is hard to test code with it.\n",
    "- In order to test functions to be in my code, I need to make sample data file extracted from the original\n",
    "- The function below will do the trick."
   ]
  },
  {
   "cell_type": "code",
   "execution_count": 5,
   "metadata": {
    "collapsed": true
   },
   "outputs": [],
   "source": [
    "OSM_FILE = \"seattle_washington.osm\"  \n",
    "\n",
    "# Sample generation related\n",
    "SAMPLE_FILE = \"seattle_washington_sample.osm\""
   ]
  },
  {
   "cell_type": "code",
   "execution_count": 6,
   "metadata": {
    "collapsed": true
   },
   "outputs": [],
   "source": [
    "# Parameter: take every k-th top level element\n",
    "k = 1000"
   ]
  },
  {
   "cell_type": "code",
   "execution_count": 8,
   "metadata": {
    "collapsed": true
   },
   "outputs": [],
   "source": [
    "def get_element(osm_file, tags=('node', 'way', 'relation')):\n",
    "    context = iter(ET.iterparse(osm_file, events=('start', 'end')))\n",
    "    _, root = next(context)\n",
    "    for event, elem in context:\n",
    "        if event == 'end' and elem.tag in tags:\n",
    "            yield elem\n",
    "            root.clear()\n",
    "\n",
    "def generate_sample():\n",
    "  with open(SAMPLE_FILE, 'wb') as output:\n",
    "      output.write('<?xml version=\"1.0\" encoding=\"UTF-8\"?>\\n')\n",
    "      output.write('<osm>\\n  ')\n",
    "\n",
    "      # Write every kth top level element\n",
    "      for i, element in enumerate(get_element(OSM_FILE)):\n",
    "          if i % k == 0:\n",
    "              output.write(ET.tostring(element, encoding='utf-8'))\n",
    "\n",
    "      output.write('</osm>')"
   ]
  },
  {
   "cell_type": "markdown",
   "metadata": {},
   "source": [
    "When running the code above, I would get sample data named, \"seattle_washington_sample.osm\""
   ]
  },
  {
   "cell_type": "markdown",
   "metadata": {},
   "source": [
    "## 3. OSM's XML Structure"
   ]
  },
  {
   "cell_type": "markdown",
   "metadata": {},
   "source": [
    "- You can find full description about OSM's XML here (http://wiki.openstreetmap.org/wiki/OSM_XML)\n",
    "- OSM basically consists of four kinds of element, node, way, tag, and nd.\n",
    "- Node describes a thing \n",
    "- Way describes a connection with nodes\n",
    "- Tag gives additional information for node and way elements\n",
    "- Nd is part of way element referencing the node by its id.\n",
    "- Sample structure is shown below\n",
    "```xml\n",
    "<?xml version=\"1.0\" encoding=\"UTF-8\"?>\n",
    "<osm version=\"0.6\" generator=\"CGImap 0.0.2\">\n",
    "    <bounds minlat=\"54.0889580\" minlon=\"12.2487570\" maxlat=\"54.0913900\" maxlon=\"12.2524800\"/>\n",
    "     <node id=\"298884269\" lat=\"54.0901746\" lon=\"12.2482632\" user=\"SvenHRO\" uid=\"46882\" visible=\"true\" version=\"1\" changeset=\"676636\" timestamp=\"2008-09-21T21:37:45Z\"/>\n",
    "     <node id=\"261728686\" lat=\"54.0906309\" lon=\"12.2441924\" user=\"PikoWinter\" uid=\"36744\" visible=\"true\" version=\"1\" changeset=\"323878\" timestamp=\"2008-05-03T13:39:23Z\"/>\n",
    "     <node id=\"1831881213\" version=\"1\" changeset=\"12370172\" lat=\"54.0900666\" lon=\"12.2539381\" user=\"lafkor\" uid=\"75625\" visible=\"true\" timestamp=\"2012-07-20T09:43:19Z\">\n",
    "         <tag k=\"name\" v=\"Neu Broderstorf\"/>\n",
    "         <tag k=\"traffic_sign\" v=\"city_limit\"/>\n",
    "     </node>\n",
    "     ...\n",
    "     <node id=\"298884272\" lat=\"54.0901447\" lon=\"12.2516513\" user=\"SvenHRO\" uid=\"46882\" visible=\"true\" version=\"1\" changeset=\"676636\" timestamp=\"2008-09-21T21:37:45Z\"/>\n",
    "     <way id=\"26659127\" user=\"Masch\" uid=\"55988\" visible=\"true\" version=\"5\" changeset=\"4142606\" timestamp=\"2010-03-16T11:47:08Z\">\n",
    "          <nd ref=\"292403538\"/>\n",
    "          <nd ref=\"298884289\"/>\n",
    "          ...\n",
    "          <nd ref=\"261728686\"/>\n",
    "          <tag k=\"highway\" v=\"unclassified\"/>\n",
    "          <tag k=\"name\" v=\"Pastower Straße\"/>\n",
    "      </way>\n",
    "</osm>\n",
    "```"
   ]
  },
  {
   "cell_type": "markdown",
   "metadata": {},
   "source": [
    "## 4. Audit elements"
   ]
  },
  {
   "cell_type": "markdown",
   "metadata": {},
   "source": [
    "## 4-1. Auditing node and way elements\n",
    "- node element includes attributes...\n",
    "  - id, lat, lon, user, uid, visible, version, changeset, timestamp\n",
    "  \n",
    "- way element includes attributes...\n",
    "  - id, user, uid, visible, version, changeset, timestamp\n",
    "  \n",
    "- their attributes contain not much of human editable information\n",
    "- id, user, uid, visible, version, changeset, timestamp are all machine generated data\n",
    "- I am not going to audit these elements for now.\n",
    "- However, if I find any, I will revise this post later."
   ]
  },
  {
   "cell_type": "markdown",
   "metadata": {},
   "source": [
    "## 4-2. Auditing tag element\n",
    "- tag element is for giving addtional information to node and way elements.\n",
    "- this is mostly where user's contribution comes in, so there could be some mistakes or inconsistency.\n",
    "- since there are too many tags available, I will choose some of them to audit for now.\n",
    "  - (you can find the entire tag set here: http://wiki.openstreetmap.org/wiki/Map_Features)\n",
    "- I think the best way to audit tag element is \n",
    "  - list all possible values from current data\n",
    "  - correct inconsistencies as much as possible for now\n",
    "  - then if I encounter other unknown issues while running a program, go back to the first step"
   ]
  },
  {
   "cell_type": "markdown",
   "metadata": {},
   "source": [
    "##  4-2-1.  tag element where k=[maxspeed|minspeed]"
   ]
  },
  {
   "cell_type": "markdown",
   "metadata": {},
   "source": [
    "##  4-2-2.  tag element where k=[country]"
   ]
  },
  {
   "cell_type": "markdown",
   "metadata": {},
   "source": [
    "##  4-2-3.  tag element where k=[phone]"
   ]
  },
  {
   "cell_type": "markdown",
   "metadata": {},
   "source": [
    "##  4-2-4.  tag element where k=[addr:street]"
   ]
  },
  {
   "cell_type": "code",
   "execution_count": null,
   "metadata": {
    "collapsed": true
   },
   "outputs": [],
   "source": []
  }
 ],
 "metadata": {
  "anaconda-cloud": {},
  "kernelspec": {
   "display_name": "Python [conda env:DAND]",
   "language": "python",
   "name": "conda-env-DAND-py"
  },
  "language_info": {
   "codemirror_mode": {
    "name": "ipython",
    "version": 2
   },
   "file_extension": ".py",
   "mimetype": "text/x-python",
   "name": "python",
   "nbconvert_exporter": "python",
   "pygments_lexer": "ipython2",
   "version": "2.7.12"
  }
 },
 "nbformat": 4,
 "nbformat_minor": 2
}
