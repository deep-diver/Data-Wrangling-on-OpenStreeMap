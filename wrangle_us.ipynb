{
 "cells": [
  {
   "cell_type": "markdown",
   "metadata": {},
   "source": [
    "# Data Wrangling with Open Street Map(OSM)"
   ]
  },
  {
   "cell_type": "markdown",
   "metadata": {},
   "source": [
    "## 1. Choose a city\n",
    "- OSM includes lots of cities spread globally. \n",
    "- I could choose cities in Asia, but lots of information in written in their local languages.\n",
    "- I am going to examine **Seattle WA, USA** since it is suitable to begin to wrangle with OSM at first.\n",
    "- After getting done with this one, I will go for another cities like Seoul in S.Korea or Tokyo in Japan.\n",
    "\n",
    "![map_region_seattle](map_region_seattle.png)"
   ]
  },
  {
   "cell_type": "markdown",
   "metadata": {},
   "source": [
    "## 1-1. Map Information\n",
    "- I am going to download map data (.osm) from MapZen. This website provides already prepared data file for popular cities. \n",
    "  - (https://goo.gl/kXjffY for Seattle WA, USA)\n",
    "- When downloading OSM file, it is initially compressed.\n",
    "- I need to uncompress the file first"
   ]
  },
  {
   "cell_type": "markdown",
   "metadata": {},
   "source": [
    "##  2. Extract sample data from original\n",
    "- Because uncompressed file is too large (> 1GB), it is hard to test code with it.\n",
    "- In order to test functions to be in my code, I need to make sample data file extracted from the original\n",
    "- The function below will do the trick."
   ]
  },
  {
   "cell_type": "code",
   "execution_count": 19,
   "metadata": {
    "collapsed": true
   },
   "outputs": [],
   "source": [
    "import os\n",
    "import xml.etree.ElementTree as ET"
   ]
  },
  {
   "cell_type": "code",
   "execution_count": 20,
   "metadata": {
    "collapsed": true
   },
   "outputs": [],
   "source": [
    "OSM_FILE = \"seattle_washington.osm\"  \n",
    "\n",
    "# Sample generation related\n",
    "SAMPLE_FILE = \"seattle_washington_sample_500.osm\""
   ]
  },
  {
   "cell_type": "code",
   "execution_count": 21,
   "metadata": {
    "collapsed": true
   },
   "outputs": [],
   "source": [
    "# Parameter: take every k-th top level element\n",
    "k = 500"
   ]
  },
  {
   "cell_type": "code",
   "execution_count": 22,
   "metadata": {
    "collapsed": true
   },
   "outputs": [],
   "source": [
    "def get_element(osm_file, tags=('node', 'way', 'relation')):\n",
    "    context = iter(ET.iterparse(osm_file, events=('start', 'end')))\n",
    "    _, root = next(context)\n",
    "    for event, elem in context:\n",
    "        if event == 'end' and elem.tag in tags:\n",
    "            yield elem\n",
    "            root.clear()\n",
    "\n",
    "def generate_sample():\n",
    "  with open(SAMPLE_FILE, 'wb') as output:\n",
    "      output.write('<?xml version=\"1.0\" encoding=\"UTF-8\"?>\\n')\n",
    "      output.write('<osm>\\n  ')\n",
    "\n",
    "      # Write every kth top level element\n",
    "      for i, element in enumerate(get_element(OSM_FILE)):\n",
    "          if i % k == 0:\n",
    "              output.write(ET.tostring(element, encoding='utf-8'))\n",
    "\n",
    "      output.write('</osm>')"
   ]
  },
  {
   "cell_type": "code",
   "execution_count": 23,
   "metadata": {
    "collapsed": false
   },
   "outputs": [],
   "source": [
    "# generate sample file\n",
    "if not os.path.exists(SAMPLE_FILE):\n",
    "    generate_sample()"
   ]
  },
  {
   "cell_type": "markdown",
   "metadata": {},
   "source": [
    "When running the code above, I would get sample data named, \"seattle_washington_sample_xxx.osm\""
   ]
  },
  {
   "cell_type": "markdown",
   "metadata": {},
   "source": [
    "## 3. OSM's XML Structure"
   ]
  },
  {
   "cell_type": "markdown",
   "metadata": {},
   "source": [
    "- You can find full description about OSM's XML here (http://wiki.openstreetmap.org/wiki/OSM_XML)\n",
    "- OSM basically consists of four kinds of element, node, way, tag, and nd.\n",
    "- Node describes a thing \n",
    "- Way describes a connection with nodes\n",
    "- Tag gives additional information for node and way elements\n",
    "- Nd is part of way element referencing the node by its id.\n",
    "- Sample structure is shown below\n",
    "```xml\n",
    "<?xml version=\"1.0\" encoding=\"UTF-8\"?>\n",
    "<osm version=\"0.6\" generator=\"CGImap 0.0.2\">\n",
    "    <bounds minlat=\"54.0889580\" minlon=\"12.2487570\" maxlat=\"54.0913900\" maxlon=\"12.2524800\"/>\n",
    "     <node id=\"298884269\" lat=\"54.0901746\" lon=\"12.2482632\" user=\"SvenHRO\" uid=\"46882\" visible=\"true\" version=\"1\" changeset=\"676636\" timestamp=\"2008-09-21T21:37:45Z\"/>\n",
    "     <node id=\"261728686\" lat=\"54.0906309\" lon=\"12.2441924\" user=\"PikoWinter\" uid=\"36744\" visible=\"true\" version=\"1\" changeset=\"323878\" timestamp=\"2008-05-03T13:39:23Z\"/>\n",
    "     <node id=\"1831881213\" version=\"1\" changeset=\"12370172\" lat=\"54.0900666\" lon=\"12.2539381\" user=\"lafkor\" uid=\"75625\" visible=\"true\" timestamp=\"2012-07-20T09:43:19Z\">\n",
    "         <tag k=\"name\" v=\"Neu Broderstorf\"/>\n",
    "         <tag k=\"traffic_sign\" v=\"city_limit\"/>\n",
    "     </node>\n",
    "     ...\n",
    "     <node id=\"298884272\" lat=\"54.0901447\" lon=\"12.2516513\" user=\"SvenHRO\" uid=\"46882\" visible=\"true\" version=\"1\" changeset=\"676636\" timestamp=\"2008-09-21T21:37:45Z\"/>\n",
    "     <way id=\"26659127\" user=\"Masch\" uid=\"55988\" visible=\"true\" version=\"5\" changeset=\"4142606\" timestamp=\"2010-03-16T11:47:08Z\">\n",
    "          <nd ref=\"292403538\"/>\n",
    "          <nd ref=\"298884289\"/>\n",
    "          ...\n",
    "          <nd ref=\"261728686\"/>\n",
    "          <tag k=\"highway\" v=\"unclassified\"/>\n",
    "          <tag k=\"name\" v=\"Pastower Straße\"/>\n",
    "      </way>\n",
    "</osm>\n",
    "```"
   ]
  },
  {
   "cell_type": "markdown",
   "metadata": {},
   "source": [
    "## 4. Audit elements"
   ]
  },
  {
   "cell_type": "markdown",
   "metadata": {},
   "source": [
    "## 4-1. Auditing node and way elements\n",
    "- node element includes attributes...\n",
    "  - id, lat, lon, user, uid, visible, version, changeset, timestamp\n",
    "  \n",
    "- way element includes attributes...\n",
    "  - id, user, uid, visible, version, changeset, timestamp\n",
    "  \n",
    "- their attributes contain not much of human editable information\n",
    "- id, user, uid, visible, version, changeset, timestamp are all machine generated data\n",
    "- I am not going to audit these elements for now.\n",
    "- However, if I find any, I will revise this post later."
   ]
  },
  {
   "cell_type": "markdown",
   "metadata": {},
   "source": [
    "## 4-2. Auditing tag element\n",
    "- tag element is for giving addtional information to node and way elements.\n",
    "- this is mostly where user's contribution comes in, so there could be some mistakes or inconsistency.\n",
    "- since there are too many tags available, I will choose some of them to audit for now.\n",
    "  - (you can find the entire tag set here: http://wiki.openstreetmap.org/wiki/Map_Features)\n",
    "- I think the best way to audit tag element is \n",
    "  - list all possible values from current data\n",
    "  - correct inconsistencies as much as possible for now\n",
    "  - then if I encounter other unknown issues while running a program, go back to the first step"
   ]
  },
  {
   "cell_type": "markdown",
   "metadata": {},
   "source": [
    "##  4-2-1.  tag element where k=[maxspeed|minspeed]\n",
    "- since mph is the standard speed unit in the US, values not specified with it has to be fixed.\n",
    "- first, I am going to look up what values there are"
   ]
  },
  {
   "cell_type": "code",
   "execution_count": 25,
   "metadata": {
    "collapsed": true
   },
   "outputs": [],
   "source": [
    "def audit_speed(filename):\n",
    "      speed_types = []\n",
    "\n",
    "      for event, elem in ET.iterparse(filename, events=(\"start\",)):\n",
    "            if elem.tag == \"node\" or elem.tag == \"way\":\n",
    "                  for tag in elem.iter(\"tag\"):\n",
    "                        key = tag.attrib['k']\n",
    "                        if key == 'maxspeed' or key == 'minspeed':\n",
    "                              speed_types.append(tag.attrib['v'])\n",
    "\n",
    "      return speed_types"
   ]
  },
  {
   "cell_type": "code",
   "execution_count": 28,
   "metadata": {
    "collapsed": false
   },
   "outputs": [
    {
     "name": "stdout",
     "output_type": "stream",
     "text": [
      "['40 mph', '25 mph', '25 mph', '25 mph', '25 mph', '35 mph', '25 mph', '25 mph', '25 mph', '25 mph', '30 mph', '100', '50', '15 mph', '50', '40 mph', '35 mph', '55 mph', '35 mph', '30 mph', '40 mph', '25 mph', '30 mph', '50', '25 mph', '25 mph', '45 mph', '35 mph', '25 mph', '25 mph', '25 mph', '15 mph', '10 mph', '35 mph', '50 mph', '25 mph', '30 mph', '30 mph', '35 mph', '55 mph', '30', '25 mph', '35 mph', '30 mph', '35 mph', '45 mph', '30 mph', '40 mph', '40 mph', '35 mph', '40 mph', '35 mph', '25 mph', '50', '45 mph', '30 mph']\n"
     ]
    }
   ],
   "source": [
    "print audit_speed(SAMPLE_FILE)"
   ]
  },
  {
   "cell_type": "markdown",
   "metadata": {},
   "source": [
    "- As you can see, there are some values missing the speed unit. \n",
    "- I think when the data grows larger like combining data from other countries, it is pretty important to specify what units are used to measure something.\n",
    "- I am going to make a helper function to add 'mph' to those missing values."
   ]
  },
  {
   "cell_type": "code",
   "execution_count": 29,
   "metadata": {
    "collapsed": true
   },
   "outputs": [],
   "source": [
    "def update_speed_unit(value):\n",
    "    if value.find('mph') > -1:\n",
    "        return value\n",
    "    else:\n",
    "        value = '{} mph'.format(value)\n",
    "        return value"
   ]
  },
  {
   "cell_type": "code",
   "execution_count": 32,
   "metadata": {
    "collapsed": false
   },
   "outputs": [
    {
     "name": "stdout",
     "output_type": "stream",
     "text": [
      "20 mph\n",
      "20 mph\n"
     ]
    }
   ],
   "source": [
    "print update_speed_unit('20 mph')\n",
    "print update_speed_unit('20')"
   ]
  },
  {
   "cell_type": "markdown",
   "metadata": {},
   "source": [
    "##  4-2-2.  tag element where k=[phone]\n",
    "- phone numbers can be written in various different ways.\n",
    "- some people include national code, or others include parenthesis surrounding local code.\n",
    "- it is better if all values are stored in the same form."
   ]
  },
  {
   "cell_type": "code",
   "execution_count": 97,
   "metadata": {
    "collapsed": true
   },
   "outputs": [],
   "source": [
    "import re\n",
    "from collections import defaultdict"
   ]
  },
  {
   "cell_type": "markdown",
   "metadata": {},
   "source": [
    "- First, I am going to remove all special characters including '+', '-', '(', and ')' since some people use them, but some others don't\n",
    "- Then, I will investigate list of lengths of phone number. \n",
    "- For normal phone numbers, the length should be 10 or 11. 11 is when national code is included."
   ]
  },
  {
   "cell_type": "code",
   "execution_count": 98,
   "metadata": {
    "collapsed": true
   },
   "outputs": [],
   "source": [
    "def audit_phone(filename):\n",
    "    phone_len = defaultdict(list)\n",
    "\n",
    "    for event, elem in ET.iterparse(filename, events=(\"start\",)):\n",
    "        if elem.tag == \"node\" or elem.tag == \"way\":\n",
    "            for tag in elem.iter(\"tag\"):\n",
    "                key = tag.attrib['k']\n",
    "                if key == 'phone':\n",
    "                    phone_num = re.sub(r'[\\+\\(\\)\\-\\s]', '', tag.attrib['v'])\n",
    "                    phone_len[len(phone_num)].append(tag.attrib['v'])\n",
    "\n",
    "    return phone_len"
   ]
  },
  {
   "cell_type": "code",
   "execution_count": 99,
   "metadata": {
    "collapsed": false
   },
   "outputs": [],
   "source": [
    "phone_audit_data = audit_phone(SAMPLE_FILE)"
   ]
  },
  {
   "cell_type": "code",
   "execution_count": 100,
   "metadata": {
    "collapsed": false
   },
   "outputs": [
    {
     "data": {
      "text/plain": [
       "defaultdict(list,\n",
       "            {4: ['+1-253-'],\n",
       "             10: ['206-220-4240', '206-524-7951', '(425) 917-1417'],\n",
       "             11: ['+1 206-633-3411',\n",
       "              '+1-206-547-1961',\n",
       "              '+1 206 448-8677',\n",
       "              '+1-425-497-8868',\n",
       "              '+1 206-467-9200',\n",
       "              '+1 206 659-4043']})"
      ]
     },
     "execution_count": 100,
     "metadata": {},
     "output_type": "execute_result"
    }
   ],
   "source": [
    "phone_audit_data"
   ]
  },
  {
   "cell_type": "markdown",
   "metadata": {},
   "source": [
    "- As you can see, there are 3 different lengths of phone numbers.\n",
    "- The length 4 is abnormal, it doesn't mean anything. I think I should get rid of it.\n",
    "- As expected, the length 10 doesn't include the national code, but the length 11 does.\n",
    "\n",
    "- I am going to define a function to update those inconsistently written phone number to uniform shape. \n",
    "  - it is going to be '+NationalCode LocalCode-3Digits-4Digits'\n",
    "- For abnormal cases, I will just return None so I can ignore later."
   ]
  },
  {
   "cell_type": "code",
   "execution_count": 101,
   "metadata": {
    "collapsed": false
   },
   "outputs": [],
   "source": [
    "def update_phone(phone_num):\n",
    "    phone_num = re.sub(r'[\\+\\(\\)\\-\\s]', '', phone_num)\n",
    "    \n",
    "    if len(phone_num) != 10 and \\\n",
    "       len(phone_num) != 11:\n",
    "            return None\n",
    "    \n",
    "    if len(phone_num) == 10:\n",
    "        phone_num = '1{}'.format(phone_num)\n",
    "    \n",
    "    phone_num = '+{} {}-{}-{}'.format(phone_num[:1], phone_num[1:4], phone_num[4:7], phone_num[7:])\n",
    "    return phone_num"
   ]
  },
  {
   "cell_type": "code",
   "execution_count": 105,
   "metadata": {
    "collapsed": false
   },
   "outputs": [
    {
     "name": "stdout",
     "output_type": "stream",
     "text": [
      "['+1 206-220-4240', '+1 206-524-7951', '+1 425-917-1417', '+1 206-633-3411', '+1 206-547-1961', '+1 206-448-8677', '+1 425-497-8868', '+1 206-467-9200', '+1 206-659-4043']\n"
     ]
    }
   ],
   "source": [
    "updated_phone_nums = []\n",
    "for length, phone_nums in phone_audit_data.items():\n",
    "    for phone_num in phone_nums:\n",
    "        update_phone_num = update_phone(phone_num)\n",
    "\n",
    "        if update_phone_num is not None:\n",
    "            updated_phone_nums.append(update_phone_num)\n",
    "        \n",
    "print updated_phone_nums"
   ]
  },
  {
   "cell_type": "markdown",
   "metadata": {},
   "source": [
    "##  4-2-3.  tag element where k=[addr:street]\n",
    "- We use many different street names.\n",
    "- We even abbreviate those names, which makes hard to read sometimes.\n",
    "- I am going to look up what kind of street names are used, and what names drive the whole data to be inconsistent."
   ]
  },
  {
   "cell_type": "code",
   "execution_count": 106,
   "metadata": {
    "collapsed": true
   },
   "outputs": [],
   "source": [
    "STREET_TYPES_RE = re.compile(r'\\b\\S+\\.?$', re.IGNORECASE)"
   ]
  },
  {
   "cell_type": "code",
   "execution_count": 107,
   "metadata": {
    "collapsed": true
   },
   "outputs": [],
   "source": [
    "def audit_street_name(filename):\n",
    "    street_types = defaultdict(set)\n",
    "\n",
    "    for event, elem in ET.iterparse(filename, events=(\"start\",)):\n",
    "        if elem.tag == \"node\" or elem.tag == \"way\":\n",
    "            for tag in elem.iter(\"tag\"):\n",
    "                key = tag.attrib['k']\n",
    "                if key == \"addr:street\":\n",
    "                    street_name = tag.attrib['v']\n",
    "                    match = STREET_TYPES.search(street_name)\n",
    "                    if match:\n",
    "                        street_type = match.group()\n",
    "                        street_types[street_type].add(street_name)\n",
    "\n",
    "    return street_types"
   ]
  },
  {
   "cell_type": "code",
   "execution_count": 109,
   "metadata": {
    "collapsed": false
   },
   "outputs": [
    {
     "data": {
      "text/plain": [
       "['Northeast',\n",
       " 'Court',\n",
       " 'South',\n",
       " 'West',\n",
       " 'Boulevard',\n",
       " 'Northwest',\n",
       " 'Way',\n",
       " 'East',\n",
       " 'Highway',\n",
       " 'Southwest',\n",
       " 'North',\n",
       " 'Southeast',\n",
       " 'Road',\n",
       " 'Spur',\n",
       " 'NW',\n",
       " 'Loop',\n",
       " 'Lane',\n",
       " 'N.',\n",
       " 'Drive',\n",
       " 'Place',\n",
       " '104',\n",
       " 'Point',\n",
       " 'WY',\n",
       " 'SW',\n",
       " 'Street',\n",
       " 'Crescent',\n",
       " 'Avenue']"
      ]
     },
     "execution_count": 109,
     "metadata": {},
     "output_type": "execute_result"
    }
   ],
   "source": [
    "audit_street_name(SAMPLE_FILE).keys()"
   ]
  },
  {
   "cell_type": "markdown",
   "metadata": {},
   "source": [
    "- Those values listed above are street name used in the last part of the full street names.\n",
    "- Ok. Now I am going to look through what full street names are for those ."
   ]
  },
  {
   "cell_type": "code",
   "execution_count": 80,
   "metadata": {
    "collapsed": false
   },
   "outputs": [
    {
     "data": {
      "text/plain": [
       "defaultdict(set,\n",
       "            {'104': {'Northeast State Highway 104'},\n",
       "             'Avenue': {'10th Avenue',\n",
       "              '12th Avenue',\n",
       "              '15th Avenue',\n",
       "              '19th Avenue',\n",
       "              '1st Avenue',\n",
       "              '20th Avenue',\n",
       "              '25th Avenue',\n",
       "              '27th Avenue',\n",
       "              '2nd Avenue',\n",
       "              '31st Avenue',\n",
       "              '36th Avenue',\n",
       "              '7th Avenue',\n",
       "              'Belton Avenue',\n",
       "              'Bracken Avenue',\n",
       "              'Caledonia Avenue',\n",
       "              'Erie Avenue',\n",
       "              'Hutchinson Avenue',\n",
       "              'Kirkland Avenue',\n",
       "              'Mann Avenue',\n",
       "              'Monterey Avenue',\n",
       "              'Montrose Avenue',\n",
       "              'Mount View Avenue',\n",
       "              'Oregon Avenue',\n",
       "              'Railroad Avenue',\n",
       "              'Selkirk Avenue',\n",
       "              'Woodridge Avenue'},\n",
       "             'Boulevard': {'Northeast Ravenna Boulevard',\n",
       "              'West Hills Boulevard'},\n",
       "             'Court': {'Columbine Court',\n",
       "              'Northeast 132nd Court',\n",
       "              'Northeast 135th Court',\n",
       "              'Northeast 147th Court',\n",
       "              'South Medley Court'},\n",
       "             'Crescent': {'Brighton Crescent', 'Mary Anne Crescent'},\n",
       "             'Drive': {'Beach Drive',\n",
       "              'Emily Carr Drive',\n",
       "              'Forbes Creek Drive',\n",
       "              'Gibraltar Bay Drive',\n",
       "              'Glenshire Drive',\n",
       "              'Inez Drive',\n",
       "              'Kiowa Drive',\n",
       "              'Lakeview Drive',\n",
       "              'Landmark Drive',\n",
       "              'Lilac Drive',\n",
       "              'Northeast Radford Drive',\n",
       "              'Northwest Elford Drive',\n",
       "              'Riverside Drive',\n",
       "              'Royal Oak Drive',\n",
       "              'South Ronald Drive',\n",
       "              'Tattersall Drive',\n",
       "              'Upland Drive',\n",
       "              'Village Green Drive'},\n",
       "             'East': {'10th Avenue East',\n",
       "              '11th Avenue East',\n",
       "              '12th Avenue East',\n",
       "              '14th Avenue East',\n",
       "              '17th Avenue East',\n",
       "              '20th Avenue East',\n",
       "              '26th Avenue East',\n",
       "              '28th Avenue East',\n",
       "              '41st Avenue East',\n",
       "              'Belmont Avenue East',\n",
       "              'Broadmoor Drive East',\n",
       "              'Fairview Avenue East',\n",
       "              'Federal Avenue East',\n",
       "              'Lake Washington Boulevard East',\n",
       "              'McGilvra Boulevard East',\n",
       "              'Minor Avenue East'},\n",
       "             'Highway': {'Island Highway'},\n",
       "             'Lane': {'8th Lane',\n",
       "              'Cedar Lane',\n",
       "              'Northeast 109th Lane',\n",
       "              'Northeast 116th Lane',\n",
       "              'Northeast 122nd Lane',\n",
       "              'Northeast 125th Lane'},\n",
       "             'Loop': {'Mount Baker Loop', 'Tundra Loop'},\n",
       "             'N.': {'Greenwood Ave N.'},\n",
       "             'NW': {'17th Ave NW'},\n",
       "             'North': {'1st Avenue North',\n",
       "              '2nd Avenue North',\n",
       "              '5th Avenue North',\n",
       "              'Aurora Avenue North',\n",
       "              'Bagley Avenue North',\n",
       "              'Burke Avenue North',\n",
       "              'College Way North',\n",
       "              'Corliss Avenue North',\n",
       "              'Dayton Avenue North',\n",
       "              'Densmore Avenue North',\n",
       "              'East Green Lake Drive North',\n",
       "              'Evanston Avenue North',\n",
       "              'Fremont Avenue North',\n",
       "              'Greenwood Avenue North',\n",
       "              'Meridian Avenue North',\n",
       "              'Midvale Avenue North',\n",
       "              'Palatine Avenue North',\n",
       "              'Queen Anne Avenue North',\n",
       "              'Stone Avenue North',\n",
       "              'Sunnyside Avenue North',\n",
       "              'Wallingford Avenue North',\n",
       "              'Whitman Avenue North',\n",
       "              'Woodlawn Avenue North'},\n",
       "             'Northeast': {'100th Avenue Northeast',\n",
       "              '100th Lane Northeast',\n",
       "              '101st Place Northeast',\n",
       "              '102nd Place Northeast',\n",
       "              '103rd Avenue Northeast',\n",
       "              '107th Avenue Northeast',\n",
       "              '107th Place Northeast',\n",
       "              '108th Avenue Northeast',\n",
       "              '110th Avenue Northeast',\n",
       "              '111th Lane Northeast',\n",
       "              '116th Avenue Northeast',\n",
       "              '11th Avenue Northeast',\n",
       "              '120th Avenue Northeast',\n",
       "              '121st Way Northeast',\n",
       "              '122nd Court Northeast',\n",
       "              '125th Place Northeast',\n",
       "              '126th Avenue Northeast',\n",
       "              '128th Avenue Northeast',\n",
       "              '131st Place Northeast',\n",
       "              '135th Avenue Northeast',\n",
       "              '15th Avenue Northeast',\n",
       "              '17th Avenue Northeast',\n",
       "              '19th Avenue Northeast',\n",
       "              '1st Avenue Northeast',\n",
       "              '215th Avenue Northeast',\n",
       "              '23rd Avenue Northeast',\n",
       "              '24th Avenue Northeast',\n",
       "              '25th Avenue Northeast',\n",
       "              '26th Avenue Northeast',\n",
       "              '29th Avenue Northeast',\n",
       "              '2nd Avenue Northeast',\n",
       "              '31st Avenue Northeast',\n",
       "              '32nd Avenue Northeast',\n",
       "              '33rd Avenue Northeast',\n",
       "              '34th Avenue Northeast',\n",
       "              '35th Avenue Northeast',\n",
       "              '37th Avenue Northeast',\n",
       "              '42nd Avenue Northeast',\n",
       "              '45th Avenue Northeast',\n",
       "              '49th Avenue Northeast',\n",
       "              '50th Avenue Northeast',\n",
       "              '51st Avenue Northeast',\n",
       "              '54th Avenue Northeast',\n",
       "              '58th Avenue Northeast',\n",
       "              '5th Avenue Northeast',\n",
       "              '73rd Avenue Northeast',\n",
       "              '77th Avenue Northeast',\n",
       "              '7th Avenue Northeast',\n",
       "              '89th Place Northeast',\n",
       "              '8th Avenue Northeast',\n",
       "              '97th Lane Northeast',\n",
       "              '98th Avenue Northeast',\n",
       "              'Alton Avenue Northeast',\n",
       "              'Brooklyn Avenue Northeast',\n",
       "              'Exeter Avenue Northeast',\n",
       "              'Kingsview Loop Northeast',\n",
       "              'Lake City Way Northeast',\n",
       "              'Lake Washington Boulevard Northeast',\n",
       "              'Latona Avenue Northeast',\n",
       "              'Pasadena Place Northeast',\n",
       "              'Roosevelt Way Northeast',\n",
       "              'Slater Avenue Northeast',\n",
       "              'University View Place Northeast',\n",
       "              'University Way Northeast',\n",
       "              'West Laurelhurst Drive Northeast',\n",
       "              'Willows Road Northeast',\n",
       "              'Woodinville-Redmond Road Northeast'},\n",
       "             'Northwest': {'11th Avenue Northwest',\n",
       "              '14th Avenue Northwest',\n",
       "              '15th Avenue Northwest',\n",
       "              '17th Avenue Northwest',\n",
       "              '1st Avenue Northwest',\n",
       "              '20th Avenue Northwest',\n",
       "              '22nd Avenue Northwest',\n",
       "              '24th Avenue Northwest',\n",
       "              '25th Avenue Northwest',\n",
       "              '2nd Avenue Northwest',\n",
       "              '31st Avenue Northwest',\n",
       "              '3rd Avenue Northwest',\n",
       "              '6th Avenue Northwest',\n",
       "              '7th Avenue Northwest',\n",
       "              '8th Avenue Northwest',\n",
       "              'Baker Avenue Northwest',\n",
       "              'Earl Avenue Northwest',\n",
       "              'Jones Avenue Northwest',\n",
       "              'Mary Avenue Northwest'},\n",
       "             'Place': {'Daffodil Place',\n",
       "              'Digby Place',\n",
       "              'Glenview Place',\n",
       "              'Haliburton Place',\n",
       "              'Hessington Place',\n",
       "              'Howell Place',\n",
       "              'Leigh Place',\n",
       "              'Mary Hill Place',\n",
       "              'McGraw Place',\n",
       "              'Melrick Place',\n",
       "              'North 10th Place',\n",
       "              'Northeast 106th Place',\n",
       "              'Northeast 110th Place',\n",
       "              'Northeast 123rd Place',\n",
       "              'Northeast 124th Place',\n",
       "              'Northeast 126th Place',\n",
       "              'Northeast 131st Place',\n",
       "              'Northeast 136th Place',\n",
       "              'Northeast 138th Place',\n",
       "              'Northeast 141st Place',\n",
       "              'Northeast 142nd Place',\n",
       "              'Northeast 38th Place',\n",
       "              'Pacific Place',\n",
       "              'Perimeter Place',\n",
       "              'Pitcombe Place',\n",
       "              'South 32nd Place',\n",
       "              'Stevenson Place',\n",
       "              'Wilmot Place'},\n",
       "             'Point': {'Carillon Point'},\n",
       "             'Road': {'Ash Road',\n",
       "              'Balmoral Road',\n",
       "              'Blodgett Road',\n",
       "              'Cedar Hill Cross Road',\n",
       "              'Cooper Road',\n",
       "              'Cordova Bay Road',\n",
       "              'Dallas Road',\n",
       "              'East Sooke Road',\n",
       "              'Edgeware Road',\n",
       "              'Esquimalt Road',\n",
       "              'Fernwood Road',\n",
       "              'Firehall Creek Road',\n",
       "              'Garnet Road',\n",
       "              'Harriet Road',\n",
       "              'Highland Road',\n",
       "              'Lindholm Road',\n",
       "              'McCallum Road',\n",
       "              'McLaughlin Road',\n",
       "              'North Road',\n",
       "              'Northeast West Kingston Road',\n",
       "              'Old Highway 99 South Road',\n",
       "              'Richmond Road',\n",
       "              'Saanich Road',\n",
       "              'Teakwood Road',\n",
       "              'Victoria View Road',\n",
       "              'Westdowne Road'},\n",
       "             'SW': {'198th Avenue SW', 'School Land Road SW'},\n",
       "             'South': {'10th Avenue South',\n",
       "              '12th Avenue South',\n",
       "              '15th Avenue South',\n",
       "              '17th Avenue South',\n",
       "              '18th Avenue South',\n",
       "              '21st Avenue South',\n",
       "              '22nd Avenue South',\n",
       "              '23rd Avenue South',\n",
       "              '25th Avenue South',\n",
       "              '2nd Avenue South',\n",
       "              '30th Avenue South',\n",
       "              '33rd Avenue South',\n",
       "              '35th Avenue South',\n",
       "              '36th Avenue South',\n",
       "              '37th Avenue South',\n",
       "              '38th Avenue South',\n",
       "              '40th Avenue South',\n",
       "              '44th Avenue South',\n",
       "              '49th Avenue South',\n",
       "              '54th Avenue South',\n",
       "              '5th Avenue South',\n",
       "              '60th Avenue South',\n",
       "              '6th Street South',\n",
       "              '8th Avenue South',\n",
       "              'Beacon Avenue South',\n",
       "              'Chatham Drive South',\n",
       "              'East Marginal Way South',\n",
       "              'Lake Washington Boulevard South',\n",
       "              'Lakeside Avenue South',\n",
       "              'Martin Luther King Junior Way South',\n",
       "              'Occidental Avenue South',\n",
       "              'Rainier Avenue South',\n",
       "              'Renton Avenue South',\n",
       "              'Seward Park Avenue South',\n",
       "              'Utah Avenue South',\n",
       "              'mount saint helens Place South'},\n",
       "             'Southeast': {'12th Avenue Southeast',\n",
       "              '21st Court Southeast',\n",
       "              '226th Avenue Southeast'},\n",
       "             'Southwest': {'14th Avenue Southwest',\n",
       "              '16th Avenue Southwest',\n",
       "              '17th Avenue Southwest',\n",
       "              '183rd Way Southwest',\n",
       "              '18th Avenue Southwest',\n",
       "              '19th Avenue Southwest',\n",
       "              '26th Avenue Southwest',\n",
       "              '28TH Ave. Southwest',\n",
       "              '29th Avenue Southwest',\n",
       "              '30th Avenue Southwest',\n",
       "              '31st Avenue Southwest',\n",
       "              '32nd Avenue Southwest',\n",
       "              '34th Avenue Southwest',\n",
       "              '35th Avenue Southwest',\n",
       "              '38th Avenue Southwest',\n",
       "              '39th Avenue Southwest',\n",
       "              '41st Avenue Southwest',\n",
       "              '42nd Avenue Southwest',\n",
       "              '44th Avenue Southwest',\n",
       "              '45th Avenue Southwest',\n",
       "              '46th Avenue Southwest',\n",
       "              '47th Avenue Southwest',\n",
       "              '48th Avenue Southwest',\n",
       "              '49th Avenue Southwest',\n",
       "              '50th Avenue Southwest',\n",
       "              '54th Avenue Southwest',\n",
       "              '55th Avenue Southwest',\n",
       "              '58th Avenue Southwest',\n",
       "              '61st Avenue Southwest',\n",
       "              '63rd Avenue Southwest',\n",
       "              '7th Avenue Southwest',\n",
       "              'Arroyo Beach Place Southwest',\n",
       "              'Bridgeport Way Southwest',\n",
       "              'California Avenue Southwest',\n",
       "              'Fairmount Avenue Southwest',\n",
       "              'Fauntleroy Way Southwest',\n",
       "              'Harbor Avenue Southwest',\n",
       "              'High Point Drive Southwest',\n",
       "              'Hillcrest Avenue Southwest',\n",
       "              'Marine View Drive Southwest',\n",
       "              'Sunset Avenue Southwest',\n",
       "              'West Marginal Way Southwest'},\n",
       "             'Spur': {'Central Spur'},\n",
       "             'Street': {'10th Street',\n",
       "              '1st Street',\n",
       "              '5th Street',\n",
       "              'Bay Street',\n",
       "              'Carroll Street',\n",
       "              'Chapman Street',\n",
       "              'Earle Street',\n",
       "              'East Boston Street',\n",
       "              'East Columbia Street',\n",
       "              'East Division Street',\n",
       "              'East Fir Street',\n",
       "              'East Harrison Street',\n",
       "              'East Louisa Street',\n",
       "              'East Mercer Street',\n",
       "              'East Spring Street',\n",
       "              'East Valley Street',\n",
       "              'Fort Street',\n",
       "              'Hastings Street',\n",
       "              'John Street',\n",
       "              'Kremlin Street',\n",
       "              'Ladysmith Street',\n",
       "              'Lee Street',\n",
       "              'Magdelin Street',\n",
       "              'Main Street',\n",
       "              'Market Street',\n",
       "              'Moss Street',\n",
       "              'Niagara Street',\n",
       "              'North 104th Street',\n",
       "              'North 127th Street',\n",
       "              'North 128th Street',\n",
       "              'North 137th Street',\n",
       "              'North 138th Street',\n",
       "              'North 140th Street',\n",
       "              'North 21st Street',\n",
       "              'North 34th Street',\n",
       "              'North 35th Street',\n",
       "              'North 37th Street',\n",
       "              'North 45th Street',\n",
       "              'North 46th Street',\n",
       "              'North 49th Street',\n",
       "              'North 52nd Street',\n",
       "              'North 62nd Street',\n",
       "              'North 63rd Street',\n",
       "              'North 70th Street',\n",
       "              'North 71st Street',\n",
       "              'North 75th Street',\n",
       "              'North 79th Street',\n",
       "              'North 85th Street',\n",
       "              'North 93rd Street',\n",
       "              'North 98th Street',\n",
       "              'Northeast 105th Street',\n",
       "              'Northeast 107th Street',\n",
       "              'Northeast 10th Street',\n",
       "              'Northeast 112th Street',\n",
       "              'Northeast 113th Street',\n",
       "              'Northeast 115th Street',\n",
       "              'Northeast 122nd Street',\n",
       "              'Northeast 123rd Street',\n",
       "              'Northeast 125th Street',\n",
       "              'Northeast 128th Street',\n",
       "              'Northeast 132nd Street',\n",
       "              'Northeast 137th Street',\n",
       "              'Northeast 139th Street',\n",
       "              'Northeast 140th Street',\n",
       "              'Northeast 141st Street',\n",
       "              'Northeast 142nd Street',\n",
       "              'Northeast 144th Street',\n",
       "              'Northeast 38th Street',\n",
       "              'Northeast 45th Street',\n",
       "              'Northeast 51st Street',\n",
       "              'Northeast 60th Street',\n",
       "              'Northeast 62nd Street',\n",
       "              'Northeast 63rd Street',\n",
       "              'Northeast 66th Street',\n",
       "              'Northeast 67th Street',\n",
       "              'Northeast 68th Street',\n",
       "              'Northeast 80th Street',\n",
       "              'Northeast 87th Street',\n",
       "              'Northeast 91st Street',\n",
       "              'Northeast 92nd Street',\n",
       "              'Northeast 95th Street',\n",
       "              'Northeast 97th Street',\n",
       "              'Northwest 103rd Street',\n",
       "              'Northwest 42nd Street',\n",
       "              'Northwest 51st Street',\n",
       "              'Northwest 57th Street',\n",
       "              'Northwest 58th Street',\n",
       "              'Northwest 60th Street',\n",
       "              'Northwest 61st Street',\n",
       "              'Northwest 62nd Street',\n",
       "              'Northwest 64th Street',\n",
       "              'Northwest 69th Street',\n",
       "              'Northwest 73rd Street',\n",
       "              'Northwest 74th Street',\n",
       "              'Northwest 81st Street',\n",
       "              'Northwest 89th Street',\n",
       "              'Northwest 90th Street',\n",
       "              'Northwest 96th Street',\n",
       "              'Northwest Market Street',\n",
       "              'Orillia Street',\n",
       "              'Pendergast Street',\n",
       "              'Quadra Street',\n",
       "              'Richardson Street',\n",
       "              'Robertson Street',\n",
       "              'Shantel Street',\n",
       "              'Shelbourne Street',\n",
       "              'South 12th Street',\n",
       "              'South 15th Street',\n",
       "              'South 25th Street',\n",
       "              'South 3rd Street',\n",
       "              'South Adams Street',\n",
       "              'South Alaska Street',\n",
       "              'South Bradford Street',\n",
       "              'South Brandon Street',\n",
       "              'South Brighton Street',\n",
       "              'South Burns Street',\n",
       "              'South Edmunds Street',\n",
       "              'South Findlay Street',\n",
       "              'South Henderson Street',\n",
       "              'South Holly Street',\n",
       "              'South Hudson Street',\n",
       "              'South Jackson Street',\n",
       "              'South Judkins Street',\n",
       "              'South Juneau Street',\n",
       "              'South Kenyon Street',\n",
       "              'South Leo Street',\n",
       "              'South Lucile Street',\n",
       "              'South Main Street',\n",
       "              'South McClellan Street',\n",
       "              'South Taft Street',\n",
       "              'South Waite Street',\n",
       "              'South Washington Street',\n",
       "              'South Webster Street',\n",
       "              'South Weller Street',\n",
       "              'Southeast 6th Street',\n",
       "              'Southwest Austin Street',\n",
       "              'Southwest Concord Street',\n",
       "              'Southwest Genesee Street',\n",
       "              'Southwest Holden Street',\n",
       "              'Southwest Morgan Street',\n",
       "              'Southwest Othello Street',\n",
       "              'Southwest Portland Street',\n",
       "              'Southwest Rose Street',\n",
       "              'Southwest Stevens Street',\n",
       "              'Spring Street',\n",
       "              'St. James Street',\n",
       "              'Valley Street',\n",
       "              'Walnut Street',\n",
       "              'West Crockett Street',\n",
       "              'West Etruria Street',\n",
       "              'West Galer Street',\n",
       "              'West Garfield Street',\n",
       "              'West Highland Street',\n",
       "              'West Lincoln Street',\n",
       "              'West Newell Street',\n",
       "              'West Nickerson Street',\n",
       "              'West Thomas Street'},\n",
       "             'WY': {'NE 63rd WY'},\n",
       "             'Way': {'Chatterton Way',\n",
       "              'East College Way',\n",
       "              'Goldeneye Way',\n",
       "              'Milton Way',\n",
       "              'Northeast 98th Way',\n",
       "              'Northeast Northgate Way',\n",
       "              'Southwest Admiral Way',\n",
       "              'West Government Way',\n",
       "              'Wisterwood Way'},\n",
       "             'West': {'14th Avenue West',\n",
       "              '1st Avenue West',\n",
       "              '23rd Avenue West',\n",
       "              '24th Avenue West',\n",
       "              '26th Avenue West',\n",
       "              '27th Place West',\n",
       "              '28th Avenue West',\n",
       "              '2nd Avenue West',\n",
       "              '32nd Avenue West',\n",
       "              '35th Avenue West',\n",
       "              '39th Avenue West',\n",
       "              '44th Avenue West',\n",
       "              '4th Avenue West',\n",
       "              '5th Avenue West',\n",
       "              '8th Avenue West',\n",
       "              'Burnside Road West',\n",
       "              'Clise Place West',\n",
       "              'Perkins Lane West',\n",
       "              'Thorndyke Avenue West',\n",
       "              'West Viewmont Way West'}})"
      ]
     },
     "execution_count": 80,
     "metadata": {},
     "output_type": "execute_result"
    }
   ],
   "source": [
    "audit_street_name(SAMPLE_FILE)"
   ]
  },
  {
   "cell_type": "markdown",
   "metadata": {},
   "source": [
    "- Here are some of the abbreviations used in the sample data and their mapped full name.\n",
    "  - NW: Northwest\n",
    "  - N.: North\n",
    "  - WY: Way\n",
    "  - SW: Southwest\n",
    "  \n",
    "- Here are some of the commonly used abbreviations\n",
    "  - NE: Northeast\n",
    "  - SE: Southeast\n",
    "  - S.: South\n",
    "  - St/St.: Street\n",
    "  - Rd/Rd.: Road\n",
    "  - Ave: Avenue\n",
    "\n",
    "- In order to update those abbreviated street names to the full name, I need to create mapping table."
   ]
  },
  {
   "cell_type": "code",
   "execution_count": 111,
   "metadata": {
    "collapsed": true
   },
   "outputs": [],
   "source": [
    "STREET_TYPE_MAPPINGS = { \"St\"    :  \"Street\",\n",
    "                         \"St.\"   :  \"Street\",\n",
    "                         \"Rd\"    :  \"Road\",\n",
    "                         \"Rd.\"   :  \"Road\",\n",
    "                         \"Ave\"   :  \"Avenue\",\n",
    "                         \"SW\"    :  \"Southwest\",\n",
    "                         \"NW\"    :  \"Northwest\",\n",
    "                         \"SE\"    :  \"Southeast\",\n",
    "                         \"NE\"    :  \"Northeast\",\n",
    "                         \"S.\"    :  \"South\",\n",
    "                         \"N.\"    :  \"North\",\n",
    "                         \"WY\"    :  \"Way\"}"
   ]
  },
  {
   "cell_type": "markdown",
   "metadata": {},
   "source": [
    "- I am going to write a function to update street name now."
   ]
  },
  {
   "cell_type": "code",
   "execution_count": 112,
   "metadata": {
    "collapsed": true
   },
   "outputs": [],
   "source": [
    "STREET_TYPES_RE = re.compile(r'\\b\\S+\\.?$', re.IGNORECASE)"
   ]
  },
  {
   "cell_type": "code",
   "execution_count": 115,
   "metadata": {
    "collapsed": true
   },
   "outputs": [],
   "source": [
    "def update_name(name):\n",
    "    m = STREET_TYPES_RE.search(name)\n",
    "\n",
    "    if m:\n",
    "        street_type = m.group()\n",
    "        \n",
    "        try:\n",
    "            name = re.sub(street_type, STREET_TYPE_MAPPINGS[street_type], name)\n",
    "            return name\n",
    "        except KeyError as e:\n",
    "            return name"
   ]
  },
  {
   "cell_type": "code",
   "execution_count": 116,
   "metadata": {
    "collapsed": false
   },
   "outputs": [
    {
     "data": {
      "text/plain": [
       "['Northeast',\n",
       " 'Court',\n",
       " 'South',\n",
       " 'West',\n",
       " 'Boulevard',\n",
       " 'Northwest',\n",
       " 'Way',\n",
       " 'East',\n",
       " 'Highway',\n",
       " 'Southwest',\n",
       " 'North',\n",
       " 'Southeast',\n",
       " 'Road',\n",
       " 'Spur',\n",
       " 'Northwest',\n",
       " 'Loop',\n",
       " 'Lane',\n",
       " 'North',\n",
       " 'Drive',\n",
       " 'Place',\n",
       " '104',\n",
       " 'Point',\n",
       " 'Way',\n",
       " 'Southwest',\n",
       " 'Street',\n",
       " 'Crescent',\n",
       " 'Avenue']"
      ]
     },
     "execution_count": 116,
     "metadata": {},
     "output_type": "execute_result"
    }
   ],
   "source": [
    "updated_street_name = []\n",
    "\n",
    "for street_name in audit_street_name(SAMPLE_FILE).keys():\n",
    "    updated_street_name.append(update_name(street_name))\n",
    "    \n",
    "updated_street_name"
   ]
  },
  {
   "cell_type": "markdown",
   "metadata": {},
   "source": [
    "## 5. Reorganize OSM into CSV (prepare for SQL)"
   ]
  },
  {
   "cell_type": "code",
   "execution_count": null,
   "metadata": {
    "collapsed": true
   },
   "outputs": [],
   "source": []
  }
 ],
 "metadata": {
  "anaconda-cloud": {},
  "kernelspec": {
   "display_name": "Python [conda env:DAND]",
   "language": "python",
   "name": "conda-env-DAND-py"
  },
  "language_info": {
   "codemirror_mode": {
    "name": "ipython",
    "version": 2
   },
   "file_extension": ".py",
   "mimetype": "text/x-python",
   "name": "python",
   "nbconvert_exporter": "python",
   "pygments_lexer": "ipython2",
   "version": "2.7.12"
  }
 },
 "nbformat": 4,
 "nbformat_minor": 2
}
