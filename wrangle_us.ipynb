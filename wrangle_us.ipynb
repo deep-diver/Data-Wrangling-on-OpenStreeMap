{
 "cells": [
  {
   "cell_type": "markdown",
   "metadata": {},
   "source": [
    "# Data Wrangling with Open Street Map(OSM)"
   ]
  },
  {
   "cell_type": "markdown",
   "metadata": {},
   "source": [
    "## 1. Choose a city\n",
    "- OSM includes lots of cities spread globally. \n",
    "- I could choose cities in Asia, but lots of information in written in their local languages.\n",
    "- I am going to examine **Seattle WA, USA** since it is suitable to begin to wrangle with OSM at first.\n",
    "- After getting done with this one, I will go for another cities like Seoul in S.Korea or Tokyo in Japan.\n",
    "\n",
    "![map_region_seattle](map_region_seattle.png)"
   ]
  },
  {
   "cell_type": "markdown",
   "metadata": {},
   "source": [
    "## 1-1. Map Information\n",
    "- I am going to download map data (.osm) from MapZen. This website provides already prepared data file for popular cities. \n",
    "  - (https://goo.gl/kXjffY for Seattle WA, USA)\n",
    "- When downloading OSM file, it is initially compressed.\n",
    "- I need to uncompress the file first"
   ]
  },
  {
   "cell_type": "markdown",
   "metadata": {},
   "source": [
    "##  2. Extract sample data from original\n",
    "- Because uncompressed file is too large (> 1GB), it is hard to test code with it.\n",
    "- In order to test functions to be in my code, I need to make sample data file extracted from the original\n",
    "- The function below will do the trick."
   ]
  },
  {
   "cell_type": "code",
   "execution_count": 19,
   "metadata": {
    "collapsed": true
   },
   "outputs": [],
   "source": [
    "import os\n",
    "import xml.etree.ElementTree as ET"
   ]
  },
  {
   "cell_type": "code",
   "execution_count": 20,
   "metadata": {
    "collapsed": true
   },
   "outputs": [],
   "source": [
    "OSM_FILE = \"seattle_washington.osm\"  \n",
    "\n",
    "# Sample generation related\n",
    "SAMPLE_FILE = \"seattle_washington_sample_500.osm\""
   ]
  },
  {
   "cell_type": "code",
   "execution_count": 21,
   "metadata": {
    "collapsed": true
   },
   "outputs": [],
   "source": [
    "# Parameter: take every k-th top level element\n",
    "k = 500"
   ]
  },
  {
   "cell_type": "code",
   "execution_count": 22,
   "metadata": {
    "collapsed": true
   },
   "outputs": [],
   "source": [
    "def get_element(osm_file, tags=('node', 'way', 'relation')):\n",
    "    context = iter(ET.iterparse(osm_file, events=('start', 'end')))\n",
    "    _, root = next(context)\n",
    "    for event, elem in context:\n",
    "        if event == 'end' and elem.tag in tags:\n",
    "            yield elem\n",
    "            root.clear()\n",
    "\n",
    "def generate_sample():\n",
    "  with open(SAMPLE_FILE, 'wb') as output:\n",
    "      output.write('<?xml version=\"1.0\" encoding=\"UTF-8\"?>\\n')\n",
    "      output.write('<osm>\\n  ')\n",
    "\n",
    "      # Write every kth top level element\n",
    "      for i, element in enumerate(get_element(OSM_FILE)):\n",
    "          if i % k == 0:\n",
    "              output.write(ET.tostring(element, encoding='utf-8'))\n",
    "\n",
    "      output.write('</osm>')"
   ]
  },
  {
   "cell_type": "code",
   "execution_count": 23,
   "metadata": {
    "collapsed": false
   },
   "outputs": [],
   "source": [
    "# generate sample file\n",
    "if not os.path.exists(SAMPLE_FILE):\n",
    "    generate_sample()"
   ]
  },
  {
   "cell_type": "markdown",
   "metadata": {},
   "source": [
    "When running the code above, I would get sample data named, \"seattle_washington_sample_xxx.osm\""
   ]
  },
  {
   "cell_type": "markdown",
   "metadata": {},
   "source": [
    "## 3. OSM's XML Structure"
   ]
  },
  {
   "cell_type": "markdown",
   "metadata": {},
   "source": [
    "- You can find full description about OSM's XML here (http://wiki.openstreetmap.org/wiki/OSM_XML)\n",
    "- OSM basically consists of four kinds of element, node, way, tag, and nd.\n",
    "- Node describes a thing \n",
    "- Way describes a connection with nodes\n",
    "- Tag gives additional information for node and way elements\n",
    "- Nd is part of way element referencing the node by its id.\n",
    "- Sample structure is shown below\n",
    "```xml\n",
    "<?xml version=\"1.0\" encoding=\"UTF-8\"?>\n",
    "<osm version=\"0.6\" generator=\"CGImap 0.0.2\">\n",
    "    <bounds minlat=\"54.0889580\" minlon=\"12.2487570\" maxlat=\"54.0913900\" maxlon=\"12.2524800\"/>\n",
    "     <node id=\"298884269\" lat=\"54.0901746\" lon=\"12.2482632\" user=\"SvenHRO\" uid=\"46882\" visible=\"true\" version=\"1\" changeset=\"676636\" timestamp=\"2008-09-21T21:37:45Z\"/>\n",
    "     <node id=\"261728686\" lat=\"54.0906309\" lon=\"12.2441924\" user=\"PikoWinter\" uid=\"36744\" visible=\"true\" version=\"1\" changeset=\"323878\" timestamp=\"2008-05-03T13:39:23Z\"/>\n",
    "     <node id=\"1831881213\" version=\"1\" changeset=\"12370172\" lat=\"54.0900666\" lon=\"12.2539381\" user=\"lafkor\" uid=\"75625\" visible=\"true\" timestamp=\"2012-07-20T09:43:19Z\">\n",
    "         <tag k=\"name\" v=\"Neu Broderstorf\"/>\n",
    "         <tag k=\"traffic_sign\" v=\"city_limit\"/>\n",
    "     </node>\n",
    "     ...\n",
    "     <node id=\"298884272\" lat=\"54.0901447\" lon=\"12.2516513\" user=\"SvenHRO\" uid=\"46882\" visible=\"true\" version=\"1\" changeset=\"676636\" timestamp=\"2008-09-21T21:37:45Z\"/>\n",
    "     <way id=\"26659127\" user=\"Masch\" uid=\"55988\" visible=\"true\" version=\"5\" changeset=\"4142606\" timestamp=\"2010-03-16T11:47:08Z\">\n",
    "          <nd ref=\"292403538\"/>\n",
    "          <nd ref=\"298884289\"/>\n",
    "          ...\n",
    "          <nd ref=\"261728686\"/>\n",
    "          <tag k=\"highway\" v=\"unclassified\"/>\n",
    "          <tag k=\"name\" v=\"Pastower Straße\"/>\n",
    "      </way>\n",
    "</osm>\n",
    "```"
   ]
  },
  {
   "cell_type": "markdown",
   "metadata": {},
   "source": [
    "## 4. Audit elements"
   ]
  },
  {
   "cell_type": "markdown",
   "metadata": {},
   "source": [
    "## 4-1. Auditing node and way elements\n",
    "- node element includes attributes...\n",
    "  - id, lat, lon, user, uid, visible, version, changeset, timestamp\n",
    "  \n",
    "- way element includes attributes...\n",
    "  - id, user, uid, visible, version, changeset, timestamp\n",
    "  \n",
    "- their attributes contain not much of human editable information\n",
    "- id, user, uid, visible, version, changeset, timestamp are all machine generated data\n",
    "- I am not going to audit these elements for now.\n",
    "- However, if I find any, I will revise this post later."
   ]
  },
  {
   "cell_type": "markdown",
   "metadata": {},
   "source": [
    "## 4-2. Auditing tag element\n",
    "- tag element is for giving addtional information to node and way elements.\n",
    "- this is mostly where user's contribution comes in, so there could be some mistakes or inconsistency.\n",
    "- since there are too many tags available, I will choose some of them to audit for now.\n",
    "  - (you can find the entire tag set here: http://wiki.openstreetmap.org/wiki/Map_Features)\n",
    "- I think the best way to audit tag element is \n",
    "  - list all possible values from current data\n",
    "  - correct inconsistencies as much as possible for now\n",
    "  - then if I encounter other unknown issues while running a program, go back to the first step"
   ]
  },
  {
   "cell_type": "markdown",
   "metadata": {},
   "source": [
    "##  4-2-1.  tag element where k=[maxspeed|minspeed]\n",
    "- since mph is the standard speed unit in the US, values not specified with it has to be fixed.\n",
    "- first, I am going to look up what values there are"
   ]
  },
  {
   "cell_type": "code",
   "execution_count": 25,
   "metadata": {
    "collapsed": true
   },
   "outputs": [],
   "source": [
    "def audit_speed(filename):\n",
    "      speed_types = []\n",
    "\n",
    "      for event, elem in ET.iterparse(filename, events=(\"start\",)):\n",
    "            if elem.tag == \"node\" or elem.tag == \"way\":\n",
    "                  for tag in elem.iter(\"tag\"):\n",
    "                        key = tag.attrib['k']\n",
    "                        if key == 'maxspeed' or key == 'minspeed':\n",
    "                              speed_types.append(tag.attrib['v'])\n",
    "\n",
    "      return speed_types"
   ]
  },
  {
   "cell_type": "code",
   "execution_count": 28,
   "metadata": {
    "collapsed": false
   },
   "outputs": [
    {
     "name": "stdout",
     "output_type": "stream",
     "text": [
      "['40 mph', '25 mph', '25 mph', '25 mph', '25 mph', '35 mph', '25 mph', '25 mph', '25 mph', '25 mph', '30 mph', '100', '50', '15 mph', '50', '40 mph', '35 mph', '55 mph', '35 mph', '30 mph', '40 mph', '25 mph', '30 mph', '50', '25 mph', '25 mph', '45 mph', '35 mph', '25 mph', '25 mph', '25 mph', '15 mph', '10 mph', '35 mph', '50 mph', '25 mph', '30 mph', '30 mph', '35 mph', '55 mph', '30', '25 mph', '35 mph', '30 mph', '35 mph', '45 mph', '30 mph', '40 mph', '40 mph', '35 mph', '40 mph', '35 mph', '25 mph', '50', '45 mph', '30 mph']\n"
     ]
    }
   ],
   "source": [
    "print audit_speed(SAMPLE_FILE)"
   ]
  },
  {
   "cell_type": "markdown",
   "metadata": {},
   "source": [
    "- As you can see, there are some values missing the speed unit. \n",
    "- I think when the data grows larger like combining data from other countries, it is pretty important to specify what units are used to measure something.\n",
    "- I am going to make a helper function to add 'mph' to those missing values."
   ]
  },
  {
   "cell_type": "code",
   "execution_count": 29,
   "metadata": {
    "collapsed": true
   },
   "outputs": [],
   "source": [
    "def update_speed_unit(value):\n",
    "    if value.find('mph') > -1:\n",
    "        return value\n",
    "    else:\n",
    "        value = '{} mph'.format(value)\n",
    "        return value"
   ]
  },
  {
   "cell_type": "code",
   "execution_count": 32,
   "metadata": {
    "collapsed": false
   },
   "outputs": [
    {
     "name": "stdout",
     "output_type": "stream",
     "text": [
      "20 mph\n",
      "20 mph\n"
     ]
    }
   ],
   "source": [
    "print update_speed_unit('20 mph')\n",
    "print update_speed_unit('20')"
   ]
  },
  {
   "cell_type": "markdown",
   "metadata": {},
   "source": [
    "##  4-2-2.  tag element where k=[phone]\n",
    "- phone numbers can be written in various different ways.\n",
    "- some people include national code, or others include parenthesis surrounding local code.\n",
    "- it is better if all values are stored in the same form."
   ]
  },
  {
   "cell_type": "code",
   "execution_count": 97,
   "metadata": {
    "collapsed": true
   },
   "outputs": [],
   "source": [
    "import re\n",
    "from collections import defaultdict"
   ]
  },
  {
   "cell_type": "markdown",
   "metadata": {},
   "source": [
    "- First, I am going to remove all special characters including '+', '-', '(', and ')' since some people use them, but some others don't\n",
    "- Then, I will investigate list of lengths of phone number. \n",
    "- For normal phone numbers, the length should be 10 or 11. 11 is when national code is included."
   ]
  },
  {
   "cell_type": "code",
   "execution_count": 98,
   "metadata": {
    "collapsed": true
   },
   "outputs": [],
   "source": [
    "def audit_phone(filename):\n",
    "    phone_len = defaultdict(list)\n",
    "\n",
    "    for event, elem in ET.iterparse(filename, events=(\"start\",)):\n",
    "        if elem.tag == \"node\" or elem.tag == \"way\":\n",
    "            for tag in elem.iter(\"tag\"):\n",
    "                key = tag.attrib['k']\n",
    "                if key == 'phone':\n",
    "                    phone_num = re.sub(r'[\\+\\(\\)\\-\\s]', '', tag.attrib['v'])\n",
    "                    phone_len[len(phone_num)].append(tag.attrib['v'])\n",
    "\n",
    "    return phone_len"
   ]
  },
  {
   "cell_type": "code",
   "execution_count": 99,
   "metadata": {
    "collapsed": false
   },
   "outputs": [],
   "source": [
    "phone_audit_data = audit_phone(SAMPLE_FILE)"
   ]
  },
  {
   "cell_type": "code",
   "execution_count": 100,
   "metadata": {
    "collapsed": false
   },
   "outputs": [
    {
     "data": {
      "text/plain": [
       "defaultdict(list,\n",
       "            {4: ['+1-253-'],\n",
       "             10: ['206-220-4240', '206-524-7951', '(425) 917-1417'],\n",
       "             11: ['+1 206-633-3411',\n",
       "              '+1-206-547-1961',\n",
       "              '+1 206 448-8677',\n",
       "              '+1-425-497-8868',\n",
       "              '+1 206-467-9200',\n",
       "              '+1 206 659-4043']})"
      ]
     },
     "execution_count": 100,
     "metadata": {},
     "output_type": "execute_result"
    }
   ],
   "source": [
    "phone_audit_data"
   ]
  },
  {
   "cell_type": "markdown",
   "metadata": {},
   "source": [
    "- As you can see, there are 3 different lengths of phone numbers.\n",
    "- The length 4 is abnormal, it doesn't mean anything. I think I should get rid of it.\n",
    "- As expected, the length 10 doesn't include the national code, but the length 11 does.\n",
    "\n",
    "- I am going to define a function to update those inconsistently written phone number to uniform shape. \n",
    "  - it is going to be '+NationalCode LocalCode-3Digits-4Digits'\n",
    "- For abnormal cases, I will just return None so I can ignore later."
   ]
  },
  {
   "cell_type": "code",
   "execution_count": 101,
   "metadata": {
    "collapsed": false
   },
   "outputs": [],
   "source": [
    "def update_phone(phone_num):\n",
    "    phone_num = re.sub(r'[\\+\\(\\)\\-\\s]', '', phone_num)\n",
    "    \n",
    "    if len(phone_num) != 10 and \\\n",
    "       len(phone_num) != 11:\n",
    "            return None\n",
    "    \n",
    "    if len(phone_num) == 10:\n",
    "        phone_num = '1{}'.format(phone_num)\n",
    "    \n",
    "    phone_num = '+{} {}-{}-{}'.format(phone_num[:1], phone_num[1:4], phone_num[4:7], phone_num[7:])\n",
    "    return phone_num"
   ]
  },
  {
   "cell_type": "code",
   "execution_count": 105,
   "metadata": {
    "collapsed": false
   },
   "outputs": [
    {
     "name": "stdout",
     "output_type": "stream",
     "text": [
      "['+1 206-220-4240', '+1 206-524-7951', '+1 425-917-1417', '+1 206-633-3411', '+1 206-547-1961', '+1 206-448-8677', '+1 425-497-8868', '+1 206-467-9200', '+1 206-659-4043']\n"
     ]
    }
   ],
   "source": [
    "updated_phone_nums = []\n",
    "for length, phone_nums in phone_audit_data.items():\n",
    "    for phone_num in phone_nums:\n",
    "        update_phone_num = update_phone(phone_num)\n",
    "\n",
    "        if update_phone_num is not None:\n",
    "            updated_phone_nums.append(update_phone_num)\n",
    "        \n",
    "print updated_phone_nums"
   ]
  },
  {
   "cell_type": "markdown",
   "metadata": {},
   "source": [
    "##  4-2-3.  tag element where k=[addr:street]\n",
    "- We use many different street names.\n",
    "- We even abbreviate those names, which makes hard to read sometimes.\n",
    "- I am going to look up what kind of street names are used, and what names drive the whole data to be inconsistent."
   ]
  },
  {
   "cell_type": "code",
   "execution_count": 106,
   "metadata": {
    "collapsed": true
   },
   "outputs": [],
   "source": [
    "STREET_TYPES_RE = re.compile(r'\\b\\S+\\.?$', re.IGNORECASE)"
   ]
  },
  {
   "cell_type": "code",
   "execution_count": 107,
   "metadata": {
    "collapsed": true
   },
   "outputs": [],
   "source": [
    "def audit_street_name(filename):\n",
    "    street_types = defaultdict(set)\n",
    "\n",
    "    for event, elem in ET.iterparse(filename, events=(\"start\",)):\n",
    "        if elem.tag == \"node\" or elem.tag == \"way\":\n",
    "            for tag in elem.iter(\"tag\"):\n",
    "                key = tag.attrib['k']\n",
    "                if key == \"addr:street\":\n",
    "                    street_name = tag.attrib['v']\n",
    "                    match = STREET_TYPES.search(street_name)\n",
    "                    if match:\n",
    "                        street_type = match.group()\n",
    "                        street_types[street_type].add(street_name)\n",
    "\n",
    "    return street_types"
   ]
  },
  {
   "cell_type": "code",
   "execution_count": 109,
   "metadata": {
    "collapsed": false
   },
   "outputs": [
    {
     "data": {
      "text/plain": [
       "['Northeast',\n",
       " 'Court',\n",
       " 'South',\n",
       " 'West',\n",
       " 'Boulevard',\n",
       " 'Northwest',\n",
       " 'Way',\n",
       " 'East',\n",
       " 'Highway',\n",
       " 'Southwest',\n",
       " 'North',\n",
       " 'Southeast',\n",
       " 'Road',\n",
       " 'Spur',\n",
       " 'NW',\n",
       " 'Loop',\n",
       " 'Lane',\n",
       " 'N.',\n",
       " 'Drive',\n",
       " 'Place',\n",
       " '104',\n",
       " 'Point',\n",
       " 'WY',\n",
       " 'SW',\n",
       " 'Street',\n",
       " 'Crescent',\n",
       " 'Avenue']"
      ]
     },
     "execution_count": 109,
     "metadata": {},
     "output_type": "execute_result"
    }
   ],
   "source": [
    "audit_street_name(SAMPLE_FILE).keys()"
   ]
  },
  {
   "cell_type": "markdown",
   "metadata": {},
   "source": [
    "- Those values listed above are street name used in the last part of the full street names.\n",
    "- Ok. Now I am going to look through what full street names are for those ."
   ]
  },
  {
   "cell_type": "code",
   "execution_count": 117,
   "metadata": {
    "collapsed": false
   },
   "outputs": [],
   "source": [
    "#audit_street_name(SAMPLE_FILE)"
   ]
  },
  {
   "cell_type": "markdown",
   "metadata": {},
   "source": [
    "- Here are some of the abbreviations used in the sample data and their mapped full name.\n",
    "  - NW: Northwest\n",
    "  - N.: North\n",
    "  - WY: Way\n",
    "  - SW: Southwest\n",
    "  \n",
    "- Here are some of the commonly used abbreviations\n",
    "  - NE: Northeast\n",
    "  - SE: Southeast\n",
    "  - S.: South\n",
    "  - St/St.: Street\n",
    "  - Rd/Rd.: Road\n",
    "  - Ave: Avenue\n",
    "\n",
    "- In order to update those abbreviated street names to the full name, I need to create mapping table."
   ]
  },
  {
   "cell_type": "code",
   "execution_count": 111,
   "metadata": {
    "collapsed": true
   },
   "outputs": [],
   "source": [
    "STREET_TYPE_MAPPINGS = { \"St\"    :  \"Street\",\n",
    "                         \"St.\"   :  \"Street\",\n",
    "                         \"Rd\"    :  \"Road\",\n",
    "                         \"Rd.\"   :  \"Road\",\n",
    "                         \"Ave\"   :  \"Avenue\",\n",
    "                         \"SW\"    :  \"Southwest\",\n",
    "                         \"NW\"    :  \"Northwest\",\n",
    "                         \"SE\"    :  \"Southeast\",\n",
    "                         \"NE\"    :  \"Northeast\",\n",
    "                         \"S.\"    :  \"South\",\n",
    "                         \"N.\"    :  \"North\",\n",
    "                         \"WY\"    :  \"Way\"}"
   ]
  },
  {
   "cell_type": "markdown",
   "metadata": {},
   "source": [
    "- I am going to write a function to update street name now."
   ]
  },
  {
   "cell_type": "code",
   "execution_count": 112,
   "metadata": {
    "collapsed": true
   },
   "outputs": [],
   "source": [
    "STREET_TYPES_RE = re.compile(r'\\b\\S+\\.?$', re.IGNORECASE)"
   ]
  },
  {
   "cell_type": "code",
   "execution_count": 115,
   "metadata": {
    "collapsed": true
   },
   "outputs": [],
   "source": [
    "def update_name(name):\n",
    "    m = STREET_TYPES_RE.search(name)\n",
    "\n",
    "    if m:\n",
    "        street_type = m.group()\n",
    "        \n",
    "        try:\n",
    "            name = re.sub(street_type, STREET_TYPE_MAPPINGS[street_type], name)\n",
    "            return name\n",
    "        except KeyError as e:\n",
    "            return name"
   ]
  },
  {
   "cell_type": "code",
   "execution_count": 116,
   "metadata": {
    "collapsed": false
   },
   "outputs": [
    {
     "data": {
      "text/plain": [
       "['Northeast',\n",
       " 'Court',\n",
       " 'South',\n",
       " 'West',\n",
       " 'Boulevard',\n",
       " 'Northwest',\n",
       " 'Way',\n",
       " 'East',\n",
       " 'Highway',\n",
       " 'Southwest',\n",
       " 'North',\n",
       " 'Southeast',\n",
       " 'Road',\n",
       " 'Spur',\n",
       " 'Northwest',\n",
       " 'Loop',\n",
       " 'Lane',\n",
       " 'North',\n",
       " 'Drive',\n",
       " 'Place',\n",
       " '104',\n",
       " 'Point',\n",
       " 'Way',\n",
       " 'Southwest',\n",
       " 'Street',\n",
       " 'Crescent',\n",
       " 'Avenue']"
      ]
     },
     "execution_count": 116,
     "metadata": {},
     "output_type": "execute_result"
    }
   ],
   "source": [
    "updated_street_name = []\n",
    "\n",
    "for street_name in audit_street_name(SAMPLE_FILE).keys():\n",
    "    updated_street_name.append(update_name(street_name))\n",
    "    \n",
    "updated_street_name"
   ]
  },
  {
   "cell_type": "markdown",
   "metadata": {},
   "source": [
    "## 5. Reorganize OSM into CSV (prepare for SQL)"
   ]
  },
  {
   "cell_type": "code",
   "execution_count": null,
   "metadata": {
    "collapsed": true
   },
   "outputs": [],
   "source": []
  }
 ],
 "metadata": {
  "anaconda-cloud": {},
  "kernelspec": {
   "display_name": "Python [conda env:DAND]",
   "language": "python",
   "name": "conda-env-DAND-py"
  },
  "language_info": {
   "codemirror_mode": {
    "name": "ipython",
    "version": 2
   },
   "file_extension": ".py",
   "mimetype": "text/x-python",
   "name": "python",
   "nbconvert_exporter": "python",
   "pygments_lexer": "ipython2",
   "version": "2.7.12"
  }
 },
 "nbformat": 4,
 "nbformat_minor": 2
}
